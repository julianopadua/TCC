{
 "cells": [
  {
   "cell_type": "code",
   "execution_count": 1,
   "metadata": {},
   "outputs": [],
   "source": [
    "import os\n",
    "import requests\n",
    "from bs4 import BeautifulSoup\n",
    "import yaml"
   ]
  },
  {
   "cell_type": "code",
   "execution_count": 2,
   "metadata": {},
   "outputs": [],
   "source": [
    "# Carregar configurações do arquivo config.yaml\n",
    "with open(\"config.yaml\", \"r\") as file:\n",
    "    config = yaml.safe_load(file)\n",
    "\n",
    "# Caminho para a pasta raw\n",
    "raw_data_path = config[\"paths\"][\"data_raw\"]\n",
    "\n",
    "# Garantir que a pasta raw existe\n",
    "os.makedirs(raw_data_path, exist_ok=True)"
   ]
  },
  {
   "cell_type": "code",
   "execution_count": 3,
   "metadata": {},
   "outputs": [],
   "source": [
    "# URL base do site\n",
    "base_url = \"https://dataserver-coids.inpe.br/queimadas/queimadas/focos/csv/anual/\""
   ]
  },
  {
   "cell_type": "code",
   "execution_count": 4,
   "metadata": {},
   "outputs": [],
   "source": [
    "# Função para baixar arquivos de uma URL\n",
    "def download_file(url, save_path):\n",
    "    response = requests.get(url, stream=True)\n",
    "    if response.status_code == 200:\n",
    "        with open(save_path, \"wb\") as file:\n",
    "            for chunk in response.iter_content(chunk_size=1024):\n",
    "                file.write(chunk)"
   ]
  },
  {
   "cell_type": "code",
   "execution_count": 5,
   "metadata": {},
   "outputs": [
    {
     "name": "stdout",
     "output_type": "stream",
     "text": [
      "Baixando focos_ams_ref_2003.zip para ../data/raw\\AMS_sat_ref\\focos_ams_ref_2003.zip\n",
      "Baixando focos_ams_ref_2004.zip para ../data/raw\\AMS_sat_ref\\focos_ams_ref_2004.zip\n",
      "Baixando focos_ams_ref_2005.zip para ../data/raw\\AMS_sat_ref\\focos_ams_ref_2005.zip\n",
      "Baixando focos_ams_ref_2006.zip para ../data/raw\\AMS_sat_ref\\focos_ams_ref_2006.zip\n",
      "Baixando focos_ams_ref_2007.zip para ../data/raw\\AMS_sat_ref\\focos_ams_ref_2007.zip\n",
      "Baixando focos_ams_ref_2008.zip para ../data/raw\\AMS_sat_ref\\focos_ams_ref_2008.zip\n",
      "Baixando focos_ams_ref_2009.zip para ../data/raw\\AMS_sat_ref\\focos_ams_ref_2009.zip\n",
      "Baixando focos_ams_ref_2010.zip para ../data/raw\\AMS_sat_ref\\focos_ams_ref_2010.zip\n",
      "Baixando focos_ams_ref_2011.zip para ../data/raw\\AMS_sat_ref\\focos_ams_ref_2011.zip\n",
      "Baixando focos_ams_ref_2012.zip para ../data/raw\\AMS_sat_ref\\focos_ams_ref_2012.zip\n",
      "Baixando focos_ams_ref_2013.zip para ../data/raw\\AMS_sat_ref\\focos_ams_ref_2013.zip\n",
      "Baixando focos_ams_ref_2014.zip para ../data/raw\\AMS_sat_ref\\focos_ams_ref_2014.zip\n",
      "Baixando focos_ams_ref_2015.zip para ../data/raw\\AMS_sat_ref\\focos_ams_ref_2015.zip\n",
      "Baixando focos_ams_ref_2016.zip para ../data/raw\\AMS_sat_ref\\focos_ams_ref_2016.zip\n",
      "Baixando focos_ams_ref_2017.zip para ../data/raw\\AMS_sat_ref\\focos_ams_ref_2017.zip\n",
      "Baixando focos_ams_ref_2018.zip para ../data/raw\\AMS_sat_ref\\focos_ams_ref_2018.zip\n",
      "Baixando focos_ams_ref_2019.zip para ../data/raw\\AMS_sat_ref\\focos_ams_ref_2019.zip\n",
      "Baixando focos_ams_ref_2020.zip para ../data/raw\\AMS_sat_ref\\focos_ams_ref_2020.zip\n",
      "Baixando focos_ams_ref_2021.zip para ../data/raw\\AMS_sat_ref\\focos_ams_ref_2021.zip\n",
      "Baixando focos_ams_ref_2022.zip para ../data/raw\\AMS_sat_ref\\focos_ams_ref_2022.zip\n",
      "Baixando focos_ams_ref_2023.zip para ../data/raw\\AMS_sat_ref\\focos_ams_ref_2023.zip\n",
      "Baixando focos_ams_ref_2024.zip para ../data/raw\\AMS_sat_ref\\focos_ams_ref_2024.zip\n",
      "Baixando focos_br_ref_2003.zip para ../data/raw\\Brasil_sat_ref\\focos_br_ref_2003.zip\n",
      "Baixando focos_br_ref_2004.zip para ../data/raw\\Brasil_sat_ref\\focos_br_ref_2004.zip\n",
      "Baixando focos_br_ref_2005.zip para ../data/raw\\Brasil_sat_ref\\focos_br_ref_2005.zip\n",
      "Baixando focos_br_ref_2006.zip para ../data/raw\\Brasil_sat_ref\\focos_br_ref_2006.zip\n",
      "Baixando focos_br_ref_2007.zip para ../data/raw\\Brasil_sat_ref\\focos_br_ref_2007.zip\n",
      "Baixando focos_br_ref_2008.zip para ../data/raw\\Brasil_sat_ref\\focos_br_ref_2008.zip\n",
      "Baixando focos_br_ref_2009.zip para ../data/raw\\Brasil_sat_ref\\focos_br_ref_2009.zip\n",
      "Baixando focos_br_ref_2010.zip para ../data/raw\\Brasil_sat_ref\\focos_br_ref_2010.zip\n",
      "Baixando focos_br_ref_2011.zip para ../data/raw\\Brasil_sat_ref\\focos_br_ref_2011.zip\n",
      "Baixando focos_br_ref_2012.zip para ../data/raw\\Brasil_sat_ref\\focos_br_ref_2012.zip\n",
      "Baixando focos_br_ref_2013.zip para ../data/raw\\Brasil_sat_ref\\focos_br_ref_2013.zip\n",
      "Baixando focos_br_ref_2014.zip para ../data/raw\\Brasil_sat_ref\\focos_br_ref_2014.zip\n",
      "Baixando focos_br_ref_2015.zip para ../data/raw\\Brasil_sat_ref\\focos_br_ref_2015.zip\n",
      "Baixando focos_br_ref_2016.zip para ../data/raw\\Brasil_sat_ref\\focos_br_ref_2016.zip\n",
      "Baixando focos_br_ref_2017.zip para ../data/raw\\Brasil_sat_ref\\focos_br_ref_2017.zip\n",
      "Baixando focos_br_ref_2018.zip para ../data/raw\\Brasil_sat_ref\\focos_br_ref_2018.zip\n",
      "Baixando focos_br_ref_2019.zip para ../data/raw\\Brasil_sat_ref\\focos_br_ref_2019.zip\n",
      "Baixando focos_br_ref_2020.zip para ../data/raw\\Brasil_sat_ref\\focos_br_ref_2020.zip\n",
      "Baixando focos_br_ref_2021.zip para ../data/raw\\Brasil_sat_ref\\focos_br_ref_2021.zip\n",
      "Baixando focos_br_ref_2022.zip para ../data/raw\\Brasil_sat_ref\\focos_br_ref_2022.zip\n",
      "Baixando focos_br_ref_2023.zip para ../data/raw\\Brasil_sat_ref\\focos_br_ref_2023.zip\n",
      "Baixando focos_br_ref_2024.zip para ../data/raw\\Brasil_sat_ref\\focos_br_ref_2024.zip\n",
      "Baixando focos_br_todos-sats_2018.zip para ../data/raw\\Brasil_todos_sats\\focos_br_todos-sats_2018.zip\n",
      "Baixando focos_br_todos-sats_2019.zip para ../data/raw\\Brasil_todos_sats\\focos_br_todos-sats_2019.zip\n",
      "Baixando focos_br_todos-sats_2020.zip para ../data/raw\\Brasil_todos_sats\\focos_br_todos-sats_2020.zip\n",
      "Baixando focos_br_todos-sats_2021.zip para ../data/raw\\Brasil_todos_sats\\focos_br_todos-sats_2021.zip\n",
      "Baixando focos_br_todos-sats_2022.zip para ../data/raw\\Brasil_todos_sats\\focos_br_todos-sats_2022.zip\n",
      "Baixando focos_br_todos-sats_2023.zip para ../data/raw\\Brasil_todos_sats\\focos_br_todos-sats_2023.zip\n",
      "Baixando focos_br_todos-sats_2024.zip para ../data/raw\\Brasil_todos_sats\\focos_br_todos-sats_2024.zip\n",
      "Baixando AC para ../data/raw\\EstadosBr_sat_ref\\AC\n",
      "Baixando AL para ../data/raw\\EstadosBr_sat_ref\\AL\n",
      "Baixando AM para ../data/raw\\EstadosBr_sat_ref\\AM\n",
      "Baixando AP para ../data/raw\\EstadosBr_sat_ref\\AP\n",
      "Baixando BA para ../data/raw\\EstadosBr_sat_ref\\BA\n",
      "Baixando CE para ../data/raw\\EstadosBr_sat_ref\\CE\n",
      "Baixando DF para ../data/raw\\EstadosBr_sat_ref\\DF\n",
      "Baixando ES para ../data/raw\\EstadosBr_sat_ref\\ES\n",
      "Baixando GO para ../data/raw\\EstadosBr_sat_ref\\GO\n",
      "Baixando MA para ../data/raw\\EstadosBr_sat_ref\\MA\n",
      "Baixando MG para ../data/raw\\EstadosBr_sat_ref\\MG\n",
      "Baixando MS para ../data/raw\\EstadosBr_sat_ref\\MS\n",
      "Baixando MT para ../data/raw\\EstadosBr_sat_ref\\MT\n",
      "Baixando PA para ../data/raw\\EstadosBr_sat_ref\\PA\n",
      "Baixando PB para ../data/raw\\EstadosBr_sat_ref\\PB\n",
      "Baixando PE para ../data/raw\\EstadosBr_sat_ref\\PE\n",
      "Baixando PI para ../data/raw\\EstadosBr_sat_ref\\PI\n",
      "Baixando PR para ../data/raw\\EstadosBr_sat_ref\\PR\n",
      "Baixando RJ para ../data/raw\\EstadosBr_sat_ref\\RJ\n",
      "Baixando RN para ../data/raw\\EstadosBr_sat_ref\\RN\n",
      "Baixando RO para ../data/raw\\EstadosBr_sat_ref\\RO\n",
      "Baixando RR para ../data/raw\\EstadosBr_sat_ref\\RR\n",
      "Baixando RS para ../data/raw\\EstadosBr_sat_ref\\RS\n",
      "Baixando SC para ../data/raw\\EstadosBr_sat_ref\\SC\n",
      "Baixando SE para ../data/raw\\EstadosBr_sat_ref\\SE\n",
      "Baixando SP para ../data/raw\\EstadosBr_sat_ref\\SP\n",
      "Baixando TO para ../data/raw\\EstadosBr_sat_ref\\TO\n"
     ]
    }
   ],
   "source": [
    "# Requisitar a página principal\n",
    "response = requests.get(base_url)\n",
    "if response.status_code == 200:\n",
    "    soup = BeautifulSoup(response.content, \"html.parser\")\n",
    "\n",
    "    # Encontrar todos os links para pastas ou arquivos\n",
    "    rows = soup.find_all(\"div\", class_=\"row\")\n",
    "    for row in rows:\n",
    "        cell = row.find(\"div\", class_=\"cell name\")\n",
    "        if cell:\n",
    "            link = cell.find(\"a\")\n",
    "            if link:\n",
    "                href = link.get(\"href\")\n",
    "                folder_url = base_url + href\n",
    "\n",
    "                # Verificar se é uma pasta\n",
    "                if href.endswith(\"/\"):\n",
    "                    # Criar uma subpasta correspondente\n",
    "                    folder_name = href.strip(\"/\")\n",
    "                    folder_path = os.path.join(raw_data_path, folder_name)\n",
    "                    os.makedirs(folder_path, exist_ok=True)\n",
    "\n",
    "                    # Acessar o conteúdo da pasta\n",
    "                    folder_response = requests.get(folder_url)\n",
    "                    if folder_response.status_code == 200:\n",
    "                        folder_soup = BeautifulSoup(folder_response.content, \"html.parser\")\n",
    "                        folder_rows = folder_soup.find_all(\"div\", class_=\"row\")\n",
    "\n",
    "                        for folder_row in folder_rows:\n",
    "                            folder_cell = folder_row.find(\"div\", class_=\"cell name\")\n",
    "                            if folder_cell:\n",
    "                                file_link = folder_cell.find(\"a\")\n",
    "                                if file_link:\n",
    "                                    file_href = file_link.get(\"href\")\n",
    "                                    file_url = folder_url + file_href\n",
    "                                    file_name = file_href.strip(\"/\")\n",
    "                                    file_save_path = os.path.join(folder_path, file_name)\n",
    "\n",
    "                                    # Baixar o arquivo\n",
    "                                    print(f\"Baixando {file_name} para {file_save_path}\")\n",
    "                                    download_file(file_url, file_save_path)\n",
    "else:\n",
    "    print(f\"Erro ao acessar {base_url}. Status code: {response.status_code}\")\n"
   ]
  },
  {
   "cell_type": "code",
   "execution_count": 9,
   "metadata": {},
   "outputs": [
    {
     "name": "stdout",
     "output_type": "stream",
     "text": [
      "   Latitude  Longitude  Cluster\n",
      "0   37.7749  -122.4194        0\n",
      "1   34.0522  -118.2437        0\n",
      "2   36.1699  -115.1398        0\n",
      "3   40.7128   -74.0060        1\n"
     ]
    }
   ],
   "source": [
    "import pandas as pd\n",
    "from sklearn.cluster import KMeans\n",
    "\n",
    "# Sample data\n",
    "data = {'Latitude': [37.7749, 34.0522, 36.1699, 40.7128],\n",
    "        'Longitude': [-122.4194, -118.2437, -115.1398, -74.0060]}\n",
    "df = pd.DataFrame(data)\n",
    "\n",
    "# Apply KMeans clustering\n",
    "kmeans = KMeans(n_clusters=2, random_state=0).fit(df)\n",
    "df['Cluster'] = kmeans.labels_\n",
    "print(df)"
   ]
  }
 ],
 "metadata": {
  "kernelspec": {
   "display_name": "Python 3",
   "language": "python",
   "name": "python3"
  },
  "language_info": {
   "codemirror_mode": {
    "name": "ipython",
    "version": 3
   },
   "file_extension": ".py",
   "mimetype": "text/x-python",
   "name": "python",
   "nbconvert_exporter": "python",
   "pygments_lexer": "ipython3",
   "version": "3.10.11"
  }
 },
 "nbformat": 4,
 "nbformat_minor": 2
}
